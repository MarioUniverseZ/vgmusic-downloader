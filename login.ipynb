{
 "cells": [
  {
   "cell_type": "markdown",
   "metadata": {},
   "source": [
    "# Example of request session with login"
   ]
  },
  {
   "cell_type": "code",
   "execution_count": 7,
   "metadata": {},
   "outputs": [],
   "source": [
    "import requests\n",
    "import os\n",
    "from dotenv import load_dotenv\n",
    "from lxml import html\n",
    "from bs4 import BeautifulSoup"
   ]
  },
  {
   "cell_type": "markdown",
   "metadata": {},
   "source": [
    "## Grab a .env and specify with:\n",
    "`EMAIL= 'your email'`\n",
    "\n",
    "`PASSWD= 'your password'`"
   ]
  },
  {
   "cell_type": "code",
   "execution_count": 8,
   "metadata": {},
   "outputs": [
    {
     "name": "stdout",
     "output_type": "stream",
     "text": [
      "https://vgmtreasurechest.com/spectrograms/taiko-no-tatsujin-namco-original-soundtrack-all-time-best-collection-2022/1598331-bjtwphsarx.png\n",
      "https://vgmtreasurechest.com/spectrograms/taiko-no-tatsujin-namco-original-soundtrack-all-time-best-collection-2022/1598332-tgezlbxkqm.png\n",
      "https://vgmtreasurechest.com/spectrograms/taiko-no-tatsujin-namco-original-soundtrack-all-time-best-collection-2022/1598333-duwyywgelm.png\n",
      "https://vgmtreasurechest.com/spectrograms/taiko-no-tatsujin-namco-original-soundtrack-all-time-best-collection-2022/1598334-fhrbvbdjtg.png\n",
      "https://vgmtreasurechest.com/spectrograms/taiko-no-tatsujin-namco-original-soundtrack-all-time-best-collection-2022/1598335-uguapniizs.png\n",
      "https://vgmtreasurechest.com/spectrograms/taiko-no-tatsujin-namco-original-soundtrack-all-time-best-collection-2022/1598336-pnzctuybpy.png\n",
      "https://vgmtreasurechest.com/spectrograms/taiko-no-tatsujin-namco-original-soundtrack-all-time-best-collection-2022/1598337-dqizdmplek.png\n",
      "https://vgmtreasurechest.com/spectrograms/taiko-no-tatsujin-namco-original-soundtrack-all-time-best-collection-2022/1598338-nsuylqtwaa.png\n",
      "https://vgmtreasurechest.com/spectrograms/taiko-no-tatsujin-namco-original-soundtrack-all-time-best-collection-2022/1598339-suzrjyuasy.png\n",
      "https://vgmtreasurechest.com/spectrograms/taiko-no-tatsujin-namco-original-soundtrack-all-time-best-collection-2022/1598340-hzdjeofcxb.png\n"
     ]
    }
   ],
   "source": [
    "load_dotenv()\n",
    "\n",
    "url = 'https://downloads.khinsider.com/forums/index.php?login/login'\n",
    "\n",
    "with requests.Session() as session:\n",
    "\n",
    "    result = session.get(url)\n",
    "    tree = html.fromstring(result.text)\n",
    "    token = list(set(tree.xpath('//input[@name=\"_xfToken\"]/@value')))[0]\n",
    "    payload = {\n",
    "        'login' : os.getenv('EMAIL'),\n",
    "        'password' : os.getenv('PASSWD'),\n",
    "        '_xfToken' : token,\n",
    "        '_xfRedirect': 'https://downloads.khinsider.com/forums/'\n",
    "    }\n",
    "    result = session.post(url, data = payload)\n",
    "    \n",
    "    result = session.get('https://downloads.khinsider.com/game-soundtracks/album/taiko-no-tatsujin-namco-original-soundtrack-all-time-best-collection-2022/spectrograms')\n",
    "    soup = BeautifulSoup(result.text, 'lxml')\n",
    "\n",
    "for p in soup.find_all('p'):\n",
    "    img = p.find('img')\n",
    "    if img:\n",
    "        print(img['src'])"
   ]
  }
 ],
 "metadata": {
  "kernelspec": {
   "display_name": "vgmusicdownloader",
   "language": "python",
   "name": "python3"
  },
  "language_info": {
   "codemirror_mode": {
    "name": "ipython",
    "version": 3
   },
   "file_extension": ".py",
   "mimetype": "text/x-python",
   "name": "python",
   "nbconvert_exporter": "python",
   "pygments_lexer": "ipython3",
   "version": "3.12.5"
  }
 },
 "nbformat": 4,
 "nbformat_minor": 2
}
